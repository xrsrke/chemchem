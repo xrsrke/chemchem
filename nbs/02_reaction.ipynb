{
 "cells": [
  {
   "cell_type": "markdown",
   "id": "7cb31268-c0cc-43c3-ba28-991d23678fc3",
   "metadata": {},
   "source": [
    "# Reaction\n",
    "\n",
    "> Fill in a module description here"
   ]
  },
  {
   "cell_type": "code",
   "execution_count": null,
   "id": "7fca3af1-9564-494d-ad8b-0d89aba773b4",
   "metadata": {},
   "outputs": [],
   "source": [
    "#| default_exp reaction"
   ]
  },
  {
   "cell_type": "code",
   "execution_count": null,
   "id": "dcf8138a-2ce4-43cc-b516-619bd207edd8",
   "metadata": {},
   "outputs": [],
   "source": [
    "#| hide\n",
    "from nbdev.showdoc import *"
   ]
  },
  {
   "cell_type": "code",
   "execution_count": null,
   "id": "3fdc7df8-e6a1-4ad3-82d0-5df9b4374a98",
   "metadata": {},
   "outputs": [],
   "source": [
    "#| export\n",
    "import pandas as pd\n",
    "from fastcore.test import test_eq\n",
    "import chemlib\n",
    "\n",
    "from chemchem.core import *\n",
    "from chemchem.compound import *"
   ]
  },
  {
   "cell_type": "code",
   "execution_count": null,
   "id": "ff8951ae-d222-48a7-8a93-c3f512920cb7",
   "metadata": {},
   "outputs": [],
   "source": [
    "#| hide\n",
    "import nbdev; nbdev.nbdev_export()"
   ]
  },
  {
   "cell_type": "markdown",
   "id": "28f1b688-b32e-4bdd-8195-83f5a2d52d33",
   "metadata": {},
   "source": [
    "#### Reaction"
   ]
  },
  {
   "cell_type": "code",
   "execution_count": null,
   "id": "d03e9e4c-ce4a-4874-b4c1-ef9fbf67ccd3",
   "metadata": {},
   "outputs": [],
   "source": [
    "#| export\n",
    "class Reaction(chemlib.Reaction):\n",
    "    def __init__(self,\n",
    "        reactants: list, # list of reactants\n",
    "        products: list # list of products\n",
    "    ):\n",
    "        super().__init__(reactants, products)\n",
    "    \n",
    "    def table(self):\n",
    "        molecules = []\n",
    "        for molecule in r2.reactants:\n",
    "            molecules.append([molecule.name, molecule.formula, molecule.mass, molecule.moles, 0])\n",
    "        \n",
    "        return pd.DataFrame(data=molecules, columns=['Name', 'Formula', 'Mass', 'Mole', 'Specifc Heat'])"
   ]
  },
  {
   "cell_type": "code",
   "execution_count": null,
   "id": "44a6b42e-a5e2-4e8c-b56c-4eb9c5223fa4",
   "metadata": {},
   "outputs": [],
   "source": [
    "H2 = Compound('H2')"
   ]
  },
  {
   "cell_type": "code",
   "execution_count": null,
   "id": "8c85f26e-020c-4bec-9eab-668a967a9153",
   "metadata": {},
   "outputs": [],
   "source": [
    "O2 = Compound('O2')"
   ]
  },
  {
   "cell_type": "code",
   "execution_count": null,
   "id": "85bcb4e9-86d1-405d-837c-c0590ced466b",
   "metadata": {},
   "outputs": [
    {
     "data": {
      "text/plain": [
       "{'grams': 2.2,\n",
       " 'molecules': 4.139008688043003e+22,\n",
       " 'moles': 0.06875429714357148}"
      ]
     },
     "execution_count": null,
     "metadata": {},
     "output_type": "execute_result"
    }
   ],
   "source": [
    "O2.get_amounts(grams=2.2)"
   ]
  },
  {
   "cell_type": "code",
   "execution_count": null,
   "id": "0fa49e16-e0ed-4068-be60-8a8057abcb71",
   "metadata": {},
   "outputs": [
    {
     "data": {
      "text/plain": [
       "<chemchem.compound.Compound>"
      ]
     },
     "execution_count": null,
     "metadata": {},
     "output_type": "execute_result"
    }
   ],
   "source": [
    "O2.setAmount(grams=2.2)"
   ]
  },
  {
   "cell_type": "code",
   "execution_count": null,
   "id": "96594066-b17e-44fd-ba5e-13a62a002d65",
   "metadata": {},
   "outputs": [
    {
     "data": {
      "text/plain": [
       "{'occurences': {'O': 2},\n",
       " 'elements': [<chemlib.chemistry.Element>,\n",
       "  <chemlib.chemistry.Element>],\n",
       " 'formula': 'O₂',\n",
       " 'coefficient': 1,\n",
       " 'name': None,\n",
       " 'mass': 2.2,\n",
       " 'moles': 0.06875429714357148,\n",
       " 'specific_heat': None}"
      ]
     },
     "execution_count": null,
     "metadata": {},
     "output_type": "execute_result"
    }
   ],
   "source": [
    "O2.__dict__"
   ]
  },
  {
   "cell_type": "code",
   "execution_count": null,
   "id": "235509e4-ebed-44dd-a7eb-a5d2d9de8863",
   "metadata": {},
   "outputs": [],
   "source": [
    "H2O = Compound('H2O')"
   ]
  },
  {
   "cell_type": "code",
   "execution_count": null,
   "id": "c648ae5b-0be7-42b1-bb0b-baa1afc56c2f",
   "metadata": {},
   "outputs": [],
   "source": [
    "r2 = Reaction(reactants=[H2, O2], products=[H2O])"
   ]
  },
  {
   "cell_type": "code",
   "execution_count": null,
   "id": "1dd73762-4dec-4e19-8bba-d410ab6fbbd8",
   "metadata": {},
   "outputs": [
    {
     "data": {
      "text/html": [
       "<div>\n",
       "<style scoped>\n",
       "    .dataframe tbody tr th:only-of-type {\n",
       "        vertical-align: middle;\n",
       "    }\n",
       "\n",
       "    .dataframe tbody tr th {\n",
       "        vertical-align: top;\n",
       "    }\n",
       "\n",
       "    .dataframe thead th {\n",
       "        text-align: right;\n",
       "    }\n",
       "</style>\n",
       "<table border=\"1\" class=\"dataframe\">\n",
       "  <thead>\n",
       "    <tr style=\"text-align: right;\">\n",
       "      <th></th>\n",
       "      <th>Name</th>\n",
       "      <th>Formula</th>\n",
       "      <th>Mass</th>\n",
       "      <th>Mole</th>\n",
       "      <th>Specifc Heat</th>\n",
       "    </tr>\n",
       "  </thead>\n",
       "  <tbody>\n",
       "    <tr>\n",
       "      <th>0</th>\n",
       "      <td>None</td>\n",
       "      <td>H₂</td>\n",
       "      <td>NaN</td>\n",
       "      <td>NaN</td>\n",
       "      <td>0</td>\n",
       "    </tr>\n",
       "    <tr>\n",
       "      <th>1</th>\n",
       "      <td>None</td>\n",
       "      <td>O₂</td>\n",
       "      <td>2.2</td>\n",
       "      <td>0.068754</td>\n",
       "      <td>0</td>\n",
       "    </tr>\n",
       "  </tbody>\n",
       "</table>\n",
       "</div>"
      ],
      "text/plain": [
       "   Name Formula  Mass      Mole  Specifc Heat\n",
       "0  None      H₂   NaN       NaN             0\n",
       "1  None      O₂   2.2  0.068754             0"
      ]
     },
     "execution_count": null,
     "metadata": {},
     "output_type": "execute_result"
    }
   ],
   "source": [
    "r2.table()"
   ]
  },
  {
   "cell_type": "code",
   "execution_count": null,
   "id": "e6ea1c1e-40c5-419b-bdac-244a0ce779ec",
   "metadata": {},
   "outputs": [
    {
     "data": {
      "text/plain": [
       "{'reactants': [<chemchem.compound.Compound>,\n",
       "  <chemchem.compound.Compound>],\n",
       " 'products': [<chemchem.compound.Compound>],\n",
       " 'compounds': [<chemchem.compound.Compound>,\n",
       "  <chemchem.compound.Compound>,\n",
       "  <chemchem.compound.Compound>],\n",
       " 'reactant_formulas': ['H₂', 'O₂'],\n",
       " 'product_formulas': ['H₂O₁'],\n",
       " 'formula': '1H₂ + 1O₂ --> 1H₂O₁',\n",
       " 'coefficients': {'H₂': 1, 'O₂': 1, 'H₂O₁': 1},\n",
       " 'constituents': ['H₂', 'O₂', 'H₂O₁'],\n",
       " 'reactant_occurences': {'H': 2, 'O': 2},\n",
       " 'product_occurences': {'H': 2, 'O': 1},\n",
       " 'is_balanced': False}"
      ]
     },
     "execution_count": null,
     "metadata": {},
     "output_type": "execute_result"
    }
   ],
   "source": [
    "r2.__dict__"
   ]
  },
  {
   "cell_type": "code",
   "execution_count": null,
   "id": "8b92632a-860a-42d4-a751-0db8ced7f989",
   "metadata": {},
   "outputs": [
    {
     "data": {
      "text/plain": [
       "{'occurences': {'O': 2},\n",
       " 'elements': [<chemlib.chemistry.Element>,\n",
       "  <chemlib.chemistry.Element>],\n",
       " 'formula': 'O₂',\n",
       " 'coefficient': 1,\n",
       " 'name': None,\n",
       " 'mass': 2.2,\n",
       " 'moles': 0.06875429714357148,\n",
       " 'specific_heat': None}"
      ]
     },
     "execution_count": null,
     "metadata": {},
     "output_type": "execute_result"
    }
   ],
   "source": [
    "r2.reactants[1].__dict__"
   ]
  },
  {
   "cell_type": "code",
   "execution_count": null,
   "id": "07437e07-04bc-47f2-a307-20f37e5c3984",
   "metadata": {},
   "outputs": [],
   "source": [
    "#| hide\n",
    "test_eq(r2.reactants[1].occurences['O'], 2)\n",
    "test_eq(len(r2.reactants), 2)"
   ]
  },
  {
   "cell_type": "code",
   "execution_count": null,
   "id": "b12b6b02-cc3f-4e17-81b5-961107830cd8",
   "metadata": {},
   "outputs": [],
   "source": []
  }
 ],
 "metadata": {
  "kernelspec": {
   "display_name": "Python 3 (ipykernel)",
   "language": "python",
   "name": "python3"
  }
 },
 "nbformat": 4,
 "nbformat_minor": 5
}
