{
 "cells": [
  {
   "cell_type": "markdown",
   "id": "730b1cba-5c86-4ff8-b636-3a89f905a74d",
   "metadata": {},
   "source": [
    "# Compound\n",
    "\n",
    "> Fill in a module description here"
   ]
  },
  {
   "cell_type": "code",
   "execution_count": null,
   "id": "2316e42c-8bd1-41ff-9c60-b5fca669a0da",
   "metadata": {},
   "outputs": [],
   "source": [
    "#| default_exp compound"
   ]
  },
  {
   "cell_type": "code",
   "execution_count": null,
   "id": "3f86fff5-bdb6-426a-8f57-462c74a31d53",
   "metadata": {},
   "outputs": [],
   "source": [
    "#| hide\n",
    "from nbdev.showdoc import *"
   ]
  },
  {
   "cell_type": "code",
   "execution_count": null,
   "id": "ad5f9ee9-dcb4-4934-93b1-670bc984d30d",
   "metadata": {},
   "outputs": [],
   "source": [
    "#| hide\n",
    "import nbdev; nbdev.nbdev_export()"
   ]
  },
  {
   "cell_type": "code",
   "execution_count": null,
   "id": "6286a613-a022-4787-b5f8-32e571c14ec5",
   "metadata": {},
   "outputs": [],
   "source": [
    "#| export\n",
    "import pandas as pd\n",
    "import sympy as smp\n",
    "import chemlib\n",
    "\n",
    "from fastcore.test import test_eq\n",
    "\n",
    "from chemchem.core import *\n",
    "from chemchem.utils import liter_to_mole"
   ]
  },
  {
   "cell_type": "code",
   "execution_count": null,
   "id": "c4329b71-df1a-465a-8ab8-42e6e2a7f8a9",
   "metadata": {},
   "outputs": [],
   "source": [
    "H2O = chemlib.Compound('H2O')"
   ]
  },
  {
   "cell_type": "code",
   "execution_count": null,
   "id": "1bd114b9-b612-440d-a781-62c5b86ab22f",
   "metadata": {},
   "outputs": [
    {
     "data": {
      "text/plain": [
       "{'occurences': {'H': 2, 'O': 1},\n",
       " 'elements': [<chemlib.chemistry.Element>,\n",
       "  <chemlib.chemistry.Element>,\n",
       "  <chemlib.chemistry.Element>],\n",
       " 'formula': 'H₂O₁',\n",
       " 'coefficient': 1}"
      ]
     },
     "execution_count": null,
     "metadata": {},
     "output_type": "execute_result"
    }
   ],
   "source": [
    "H2O.__dict__"
   ]
  },
  {
   "cell_type": "code",
   "execution_count": null,
   "id": "af8c6e54-0687-4346-92ab-50410ce6a676",
   "metadata": {},
   "outputs": [
    {
     "data": {
      "text/plain": [
       "<chemlib.chemistry.Compound>"
      ]
     },
     "execution_count": null,
     "metadata": {},
     "output_type": "execute_result"
    }
   ],
   "source": [
    "H2O"
   ]
  },
  {
   "cell_type": "code",
   "execution_count": null,
   "id": "fc678405-90eb-4338-86d0-8f37a28dd7dc",
   "metadata": {},
   "outputs": [],
   "source": [
    "from mendeleev import Fe"
   ]
  },
  {
   "cell_type": "code",
   "execution_count": null,
   "id": "5e41d71e-dd2b-4989-b467-9d4623eb70e1",
   "metadata": {},
   "outputs": [
    {
     "data": {
      "text/plain": [
       "0.449"
      ]
     },
     "execution_count": null,
     "metadata": {},
     "output_type": "execute_result"
    }
   ],
   "source": [
    "Fe.specific_heat_capacity"
   ]
  },
  {
   "cell_type": "code",
   "execution_count": null,
   "id": "423976be-8d5c-4e67-80ff-6c09dcfac822",
   "metadata": {},
   "outputs": [],
   "source": [
    "#| export\n",
    "class Compound(chemlib.Compound):\n",
    "    \n",
    "    # TODO: Add state\n",
    "    \n",
    "    def __init__(self,\n",
    "        formula: str # the chemical formula\n",
    "    ):\n",
    "        super().__init__(formula)\n",
    "        self.name = 'water'\n",
    "        self.mass = None\n",
    "        self.mass_t = Symbol('m', self.formula)\n",
    "        self.moles = None\n",
    "        self.specific_heat = None\n",
    "        self.temperature = pd.Series(data=[None],name=\"temperature\")\n",
    "        self.state = None\n",
    "    \n",
    "    def setName(self, name):\n",
    "        self.name = name\n",
    "        return self\n",
    "\n",
    "    def setAmount(self, **kwargs): # set the amount by moles or mass of the compound\n",
    "    \n",
    "        if 'mass' in kwargs:\n",
    "            kwargs['grams'] = kwargs['mass'].to('grams').magnitude\n",
    "            kwargs.pop('mass')\n",
    "        elif 'volume' in kwargs:\n",
    "            # add convert liter to mass\n",
    "            mole = liter_to_mole(kwargs['volume'])\n",
    "            kwargs['moles'] = mole.magnitude\n",
    "            kwargs.pop('volume')\n",
    "        \n",
    "        amounts = self.get_amounts(**kwargs)\n",
    "        self.mass = Q(amounts['grams'], 'grams').to(Unit.MASS)\n",
    "        self.moles = Q(amounts['moles'], Unit.MOLE)\n",
    "        return self\n",
    "    \n",
    "    def setSpecificHeat(self, specific_heat):\n",
    "        self.specific_heat = specific_heat\n",
    "        return specific_heat\n",
    "    \n",
    "    def temperature(\n",
    "        self,\n",
    "        idx # the time step\n",
    "    ): # time series for the changes in temperature\n",
    "        pass\n",
    "    \n",
    "    def setTemperature(\n",
    "        self,\n",
    "        value # the tempature\n",
    "    ): \n",
    "        pass\n",
    "\n",
    "    def heat(self, change_in_temperature):\n",
    "        return self.specific_heat * self.mass * change_in_temperature\n",
    "    \n",
    "    @property\n",
    "    def heat_capacity(self):\n",
    "        \n",
    "        if not self.mass or not self.specific_heat:\n",
    "            return None\n",
    "        return self.mass * self.specific_heat"
   ]
  },
  {
   "cell_type": "code",
   "execution_count": null,
   "id": "4da853e0-7ae2-419c-921f-e487381b33db",
   "metadata": {},
   "outputs": [],
   "source": [
    "H2O = Compound('H2O')"
   ]
  },
  {
   "cell_type": "code",
   "execution_count": null,
   "id": "186ba144-117e-421e-9ae4-5728685c1bf9",
   "metadata": {},
   "outputs": [
    {
     "data": {
      "text/plain": [
       "<__main__.Compound>"
      ]
     },
     "execution_count": null,
     "metadata": {},
     "output_type": "execute_result"
    }
   ],
   "source": [
    "H2O.setAmount(mass=Q(2.2, 'kilograms'))"
   ]
  },
  {
   "cell_type": "code",
   "execution_count": null,
   "id": "4071dd7e-f0fc-4814-ab42-8b31e652fce2",
   "metadata": {},
   "outputs": [
    {
     "data": {
      "text/plain": [
       "<__main__.Compound>"
      ]
     },
     "execution_count": null,
     "metadata": {},
     "output_type": "execute_result"
    }
   ],
   "source": [
    "H2O.setName('water')"
   ]
  },
  {
   "cell_type": "code",
   "execution_count": null,
   "id": "0d8d3a71-86e3-4a55-8a94-c0d1ef513bdf",
   "metadata": {},
   "outputs": [
    {
     "data": {
      "text/plain": [
       "'H₂O₁'"
      ]
     },
     "execution_count": null,
     "metadata": {},
     "output_type": "execute_result"
    }
   ],
   "source": [
    "str(H2O.formula)"
   ]
  },
  {
   "cell_type": "code",
   "execution_count": null,
   "id": "9ea57d1f-a0ed-45a7-8179-5e04f4770b48",
   "metadata": {},
   "outputs": [
    {
     "data": {
      "text/plain": [
       "{'occurences': {'H': 2, 'O': 1},\n",
       " 'elements': [<chemlib.chemistry.Element>,\n",
       "  <chemlib.chemistry.Element>,\n",
       "  <chemlib.chemistry.Element>],\n",
       " 'formula': 'H₂O₁',\n",
       " 'coefficient': 1,\n",
       " 'name': 'water',\n",
       " 'mass': 2.2 <Unit('kilogram')>,\n",
       " 'mass_t': <chemchem.core.Symbol>,\n",
       " 'moles': 122.12045517624202 <Unit('mole')>,\n",
       " 'specific_heat': None,\n",
       " 'temperature': 0    None\n",
       " Name: temperature, dtype: object,\n",
       " 'state': None}"
      ]
     },
     "execution_count": null,
     "metadata": {},
     "output_type": "execute_result"
    }
   ],
   "source": [
    "H2O.__dict__"
   ]
  },
  {
   "cell_type": "code",
   "execution_count": null,
   "id": "e154bc3a-34a9-4935-840a-0206a686e0dc",
   "metadata": {},
   "outputs": [],
   "source": [
    "H2O.specific_heat"
   ]
  },
  {
   "cell_type": "code",
   "execution_count": null,
   "id": "1e788978-380f-445b-b4d5-439e03c2031d",
   "metadata": {},
   "outputs": [],
   "source": [
    "#| hide\n",
    "assert H2O.occurences['H'] == 2\n",
    "assert H2O.mass == Q(2.2, Unit.MASS)\n",
    "assert H2O.moles == Q(122.12045517624202, Unit.MOLE)\n",
    "assert H2O.specific_heat == None"
   ]
  },
  {
   "cell_type": "code",
   "execution_count": null,
   "id": "1e4fd4ef-fa37-4f1a-972f-0b1ed0921c7e",
   "metadata": {},
   "outputs": [
    {
     "data": {
      "text/plain": [
       "<__main__.Compound>"
      ]
     },
     "execution_count": null,
     "metadata": {},
     "output_type": "execute_result"
    }
   ],
   "source": [
    "H2O.setName('water')"
   ]
  },
  {
   "cell_type": "code",
   "execution_count": null,
   "id": "7f79b56e-fc10-400c-ad92-c31177194d71",
   "metadata": {},
   "outputs": [],
   "source": [
    "#| hide\n",
    "assert H2O.name == 'water'"
   ]
  },
  {
   "cell_type": "code",
   "execution_count": null,
   "id": "02350c0c-ae5a-4acd-94fe-f2710fbb4339",
   "metadata": {},
   "outputs": [],
   "source": [
    "H2 = Compound('H2')"
   ]
  },
  {
   "cell_type": "code",
   "execution_count": null,
   "id": "3dd7db43-f8a9-48c3-b476-0e424f873232",
   "metadata": {},
   "outputs": [
    {
     "data": {
      "text/plain": [
       "<__main__.Compound>"
      ]
     },
     "execution_count": null,
     "metadata": {},
     "output_type": "execute_result"
    }
   ],
   "source": [
    "H2.setAmount(volume=Q(10, 'liter'))"
   ]
  },
  {
   "cell_type": "code",
   "execution_count": null,
   "id": "8e726738-1e5a-4703-bac4-140614f7fa6d",
   "metadata": {},
   "outputs": [
    {
     "data": {
      "text/plain": [
       "{'occurences': {'H': 2},\n",
       " 'elements': [<chemlib.chemistry.Element>,\n",
       "  <chemlib.chemistry.Element>],\n",
       " 'formula': 'H₂',\n",
       " 'coefficient': 1,\n",
       " 'name': 'water',\n",
       " 'mass': 0.0009000000000000001 <Unit('kilogram')>,\n",
       " 'mass_t': <chemchem.core.Symbol>,\n",
       " 'moles': 0.44642857142857145 <Unit('mole')>,\n",
       " 'specific_heat': None,\n",
       " 'temperature': 0    None\n",
       " Name: temperature, dtype: object,\n",
       " 'state': None}"
      ]
     },
     "execution_count": null,
     "metadata": {},
     "output_type": "execute_result"
    }
   ],
   "source": [
    "#| hide\n",
    "H2.__dict__"
   ]
  },
  {
   "cell_type": "code",
   "execution_count": null,
   "id": "db4225d5-068e-4c17-b252-ec72c65b016b",
   "metadata": {},
   "outputs": [],
   "source": [
    "#| hide\n",
    "test_eq(H2.moles.magnitude, 0.44642857142857145)"
   ]
  },
  {
   "cell_type": "markdown",
   "id": "5f24973b-4f72-4f5d-89a0-f1042cb34f0f",
   "metadata": {},
   "source": [
    "### Compound Builder"
   ]
  },
  {
   "cell_type": "code",
   "execution_count": null,
   "id": "c843f789-4494-475f-9309-f89fa990a66d",
   "metadata": {},
   "outputs": [],
   "source": [
    "#| export\n",
    "class CompoundBuilder():\n",
    "    \n",
    "    def __init__(self, formula):\n",
    "        self.compound = Compound(formula)\n",
    "\n",
    "    def setMass(self, **kwargs):\n",
    "        pass"
   ]
  },
  {
   "cell_type": "code",
   "execution_count": null,
   "id": "dde3c3ed-427a-465b-b655-d57a0d76977a",
   "metadata": {},
   "outputs": [
    {
     "data": {
      "text/plain": [
       "{'compound': <__main__.Compound>}"
      ]
     },
     "execution_count": null,
     "metadata": {},
     "output_type": "execute_result"
    }
   ],
   "source": [
    "CompoundBuilder('H2O').__dict__"
   ]
  }
 ],
 "metadata": {
  "kernelspec": {
   "display_name": "Python 3 (ipykernel)",
   "language": "python",
   "name": "python3"
  }
 },
 "nbformat": 4,
 "nbformat_minor": 5
}
