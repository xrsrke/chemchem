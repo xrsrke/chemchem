{
 "cells": [
  {
   "cell_type": "markdown",
   "id": "730b1cba-5c86-4ff8-b636-3a89f905a74d",
   "metadata": {},
   "source": [
    "# Compound\n",
    "\n",
    "> Fill in a module description here"
   ]
  },
  {
   "cell_type": "code",
   "execution_count": null,
   "id": "2316e42c-8bd1-41ff-9c60-b5fca669a0da",
   "metadata": {},
   "outputs": [],
   "source": [
    "#| default_exp compound"
   ]
  },
  {
   "cell_type": "code",
   "execution_count": null,
   "id": "3f86fff5-bdb6-426a-8f57-462c74a31d53",
   "metadata": {},
   "outputs": [],
   "source": [
    "#| hide\n",
    "from nbdev.showdoc import *"
   ]
  },
  {
   "cell_type": "code",
   "execution_count": null,
   "id": "ad5f9ee9-dcb4-4934-93b1-670bc984d30d",
   "metadata": {},
   "outputs": [],
   "source": [
    "#| hide\n",
    "import nbdev; nbdev.nbdev_export()"
   ]
  },
  {
   "cell_type": "code",
   "execution_count": null,
   "id": "6286a613-a022-4787-b5f8-32e571c14ec5",
   "metadata": {},
   "outputs": [],
   "source": [
    "#| export\n",
    "import pandas as pd\n",
    "import chemlib\n",
    "\n",
    "from chemchem.core import *"
   ]
  },
  {
   "cell_type": "code",
   "execution_count": null,
   "id": "c4329b71-df1a-465a-8ab8-42e6e2a7f8a9",
   "metadata": {},
   "outputs": [],
   "source": [
    "H2O = chemlib.Compound('H2O')"
   ]
  },
  {
   "cell_type": "code",
   "execution_count": null,
   "id": "1bd114b9-b612-440d-a781-62c5b86ab22f",
   "metadata": {},
   "outputs": [
    {
     "data": {
      "text/plain": [
       "{'occurences': {'H': 2, 'O': 1},\n",
       " 'elements': [<chemlib.chemistry.Element>,\n",
       "  <chemlib.chemistry.Element>,\n",
       "  <chemlib.chemistry.Element>],\n",
       " 'formula': 'H₂O₁',\n",
       " 'coefficient': 1}"
      ]
     },
     "execution_count": null,
     "metadata": {},
     "output_type": "execute_result"
    }
   ],
   "source": [
    "H2O.__dict__"
   ]
  },
  {
   "cell_type": "code",
   "execution_count": null,
   "id": "af8c6e54-0687-4346-92ab-50410ce6a676",
   "metadata": {},
   "outputs": [
    {
     "data": {
      "text/plain": [
       "<chemlib.chemistry.Compound>"
      ]
     },
     "execution_count": null,
     "metadata": {},
     "output_type": "execute_result"
    }
   ],
   "source": [
    "H2O"
   ]
  },
  {
   "cell_type": "markdown",
   "id": "7d9cf65e-2ec9-49c6-af69-49b4845688e6",
   "metadata": {},
   "source": [
    "##### Specific Heat"
   ]
  },
  {
   "cell_type": "markdown",
   "id": "7f2c3377-84a3-4512-bd9d-f713edc07600",
   "metadata": {},
   "source": [
    "The specific heat of "
   ]
  },
  {
   "cell_type": "markdown",
   "id": "01dd721c-7e2d-4d0b-8b80-40716f08444d",
   "metadata": {},
   "source": [
    "##### Heat Capacity"
   ]
  },
  {
   "cell_type": "markdown",
   "id": "293df2a4-de6f-4a57-978f-ada5e59c340e",
   "metadata": {},
   "source": [
    "The heat capacity of a substanc depends on its mass and the specific heat."
   ]
  },
  {
   "cell_type": "markdown",
   "id": "aa6438e8-e1cf-4e7e-823a-310a7f0b902b",
   "metadata": {},
   "source": [
    "The heat capacity of a substance: $C = s \\times \\Delta T$"
   ]
  },
  {
   "cell_type": "code",
   "execution_count": null,
   "id": "fc678405-90eb-4338-86d0-8f37a28dd7dc",
   "metadata": {},
   "outputs": [],
   "source": [
    "from mendeleev import Fe"
   ]
  },
  {
   "cell_type": "code",
   "execution_count": null,
   "id": "5e41d71e-dd2b-4989-b467-9d4623eb70e1",
   "metadata": {},
   "outputs": [
    {
     "data": {
      "text/plain": [
       "0.449"
      ]
     },
     "execution_count": null,
     "metadata": {},
     "output_type": "execute_result"
    }
   ],
   "source": [
    "Fe.specific_heat_capacity"
   ]
  },
  {
   "cell_type": "code",
   "execution_count": null,
   "id": "b5c786e5-775f-49b0-990e-4a6dd41e1716",
   "metadata": {},
   "outputs": [
    {
     "data": {
      "text/plain": [
       "pandas.core.series.Series"
      ]
     },
     "execution_count": null,
     "metadata": {},
     "output_type": "execute_result"
    }
   ],
   "source": [
    "pd.Series"
   ]
  },
  {
   "cell_type": "code",
   "execution_count": null,
   "id": "423976be-8d5c-4e67-80ff-6c09dcfac822",
   "metadata": {},
   "outputs": [],
   "source": [
    "#| export\n",
    "class Compound(chemlib.Compound):\n",
    "    def __init__(self,\n",
    "        formula: str # the chemical formula\n",
    "    ):\n",
    "        super().__init__(formula)\n",
    "        self.name = None\n",
    "        self.mass = None\n",
    "        self.moles = None\n",
    "        self.specific_heat = None\n",
    "    \n",
    "    @property\n",
    "    def heat_capacity(self):\n",
    "        pass\n",
    "    \n",
    "    def temperature(\n",
    "        self,\n",
    "        idx # the time step\n",
    "    ): # time series for the changes in temperature\n",
    "        pass\n",
    "    \n",
    "    def setName(self, name):\n",
    "        self.name = name\n",
    "        return self\n",
    "\n",
    "    def setAmount(self, **kwargs):\n",
    "        amounts = self.get_amounts(**kwargs)\n",
    "        self.mass = amounts['grams']\n",
    "        self.moles = amounts['moles']\n",
    "        return self"
   ]
  },
  {
   "cell_type": "code",
   "execution_count": null,
   "id": "4da853e0-7ae2-419c-921f-e487381b33db",
   "metadata": {},
   "outputs": [],
   "source": [
    "H2O = Compound('H2O')"
   ]
  },
  {
   "cell_type": "code",
   "execution_count": null,
   "id": "7204e9a6-9b38-4a6b-9b62-36191206fbef",
   "metadata": {},
   "outputs": [
    {
     "data": {
      "text/plain": [
       "<__main__.Compound>"
      ]
     },
     "execution_count": null,
     "metadata": {},
     "output_type": "execute_result"
    }
   ],
   "source": [
    "H2O.setAmount(grams=2.2)"
   ]
  },
  {
   "cell_type": "code",
   "execution_count": null,
   "id": "9ea57d1f-a0ed-45a7-8179-5e04f4770b48",
   "metadata": {},
   "outputs": [
    {
     "data": {
      "text/plain": [
       "{'occurences': {'H': 2, 'O': 1},\n",
       " 'elements': [<chemlib.chemistry.Element>,\n",
       "  <chemlib.chemistry.Element>,\n",
       "  <chemlib.chemistry.Element>],\n",
       " 'formula': 'H₂O₁',\n",
       " 'coefficient': 1,\n",
       " 'name': None,\n",
       " 'mass': 2.2,\n",
       " 'moles': 0.12212045517624202,\n",
       " 'specific_heat': None}"
      ]
     },
     "execution_count": null,
     "metadata": {},
     "output_type": "execute_result"
    }
   ],
   "source": [
    "H2O.__dict__"
   ]
  },
  {
   "cell_type": "code",
   "execution_count": null,
   "id": "1e788978-380f-445b-b4d5-439e03c2031d",
   "metadata": {},
   "outputs": [],
   "source": [
    "#| hide\n",
    "assert H2O.occurences['H'] == 2\n",
    "assert H2O.mass == 2.2\n",
    "assert H2O.moles == 0.12212045517624202\n",
    "assert H2O.specific_heat == None"
   ]
  },
  {
   "cell_type": "code",
   "execution_count": null,
   "id": "1e4fd4ef-fa37-4f1a-972f-0b1ed0921c7e",
   "metadata": {},
   "outputs": [
    {
     "data": {
      "text/plain": [
       "<__main__.Compound>"
      ]
     },
     "execution_count": null,
     "metadata": {},
     "output_type": "execute_result"
    }
   ],
   "source": [
    "H2O.setName('water')"
   ]
  },
  {
   "cell_type": "code",
   "execution_count": null,
   "id": "7f79b56e-fc10-400c-ad92-c31177194d71",
   "metadata": {},
   "outputs": [],
   "source": [
    "#| hide\n",
    "assert H2O.name == 'water'"
   ]
  },
  {
   "cell_type": "code",
   "execution_count": null,
   "id": "c843f789-4494-475f-9309-f89fa990a66d",
   "metadata": {},
   "outputs": [],
   "source": [
    "#| export\n",
    "class CompoundBuilder():\n",
    "    \n",
    "    def __init__(self, formula):\n",
    "        self.compound = Compound(formula)\n",
    "\n",
    "    def setMass(self, **kwargs):\n",
    "        pass"
   ]
  },
  {
   "cell_type": "code",
   "execution_count": null,
   "id": "dde3c3ed-427a-465b-b655-d57a0d76977a",
   "metadata": {},
   "outputs": [
    {
     "data": {
      "text/plain": [
       "{'compound': <__main__.Compound>}"
      ]
     },
     "execution_count": null,
     "metadata": {},
     "output_type": "execute_result"
    }
   ],
   "source": [
    "CompoundBuilder('H2O').__dict__"
   ]
  },
  {
   "cell_type": "code",
   "execution_count": null,
   "id": "30e7b5a5-c354-416a-abcd-64c82d398db3",
   "metadata": {},
   "outputs": [],
   "source": []
  }
 ],
 "metadata": {
  "kernelspec": {
   "display_name": "Python 3 (ipykernel)",
   "language": "python",
   "name": "python3"
  }
 },
 "nbformat": 4,
 "nbformat_minor": 5
}
