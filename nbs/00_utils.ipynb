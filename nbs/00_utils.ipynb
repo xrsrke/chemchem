{
 "cells": [
  {
   "cell_type": "markdown",
   "id": "a66402cb-7db1-4662-9b42-2ee5287614ab",
   "metadata": {},
   "source": [
    "# Utils\n",
    "\n",
    "> Fill in a module description here"
   ]
  },
  {
   "cell_type": "code",
   "execution_count": null,
   "id": "ba5a7f3e-0f45-4a4e-99ba-863344b18154",
   "metadata": {},
   "outputs": [],
   "source": [
    "#| default_exp utils"
   ]
  },
  {
   "cell_type": "code",
   "execution_count": null,
   "id": "e139b958-1220-4f5a-a7f7-8c02592f009e",
   "metadata": {},
   "outputs": [],
   "source": [
    "#| hide\n",
    "from nbdev.showdoc import *"
   ]
  },
  {
   "cell_type": "code",
   "execution_count": null,
   "id": "73d0e9ac-a43d-46c8-9493-4e4bcd6173e0",
   "metadata": {},
   "outputs": [],
   "source": [
    "#| hide\n",
    "import nbdev; nbdev.nbdev_export()"
   ]
  },
  {
   "cell_type": "code",
   "execution_count": null,
   "id": "fe59e419-f532-40f2-981e-6a3e18270e7d",
   "metadata": {},
   "outputs": [],
   "source": [
    "#| export\n",
    "from chemchem.core import *\n",
    "from fastcore.test import test_eq"
   ]
  },
  {
   "cell_type": "code",
   "execution_count": null,
   "id": "d1bf4f8f-35c6-4a91-a356-34689eb97b0d",
   "metadata": {},
   "outputs": [],
   "source": [
    "#| export\n",
    "def liter_to_mole(liter):\n",
    "    liter = liter.to('liter')\n",
    "    return Q(liter.magnitude / 22.4, Unit.MOLE)"
   ]
  },
  {
   "cell_type": "code",
   "execution_count": null,
   "id": "f3a4b51e-633d-42af-8778-e5dc730a9354",
   "metadata": {},
   "outputs": [],
   "source": [
    "m1 = liter_to_mole(Q(10.0, 'liter'))"
   ]
  },
  {
   "cell_type": "code",
   "execution_count": null,
   "id": "40ecd4f7-d55e-4ae9-a0c0-956655b2622d",
   "metadata": {},
   "outputs": [
    {
     "data": {
      "text/html": [
       "0.44642857142857145 mole"
      ],
      "text/latex": [
       "$0.44642857142857145\\ \\mathrm{mole}$"
      ],
      "text/plain": [
       "0.44642857142857145 <Unit('mole')>"
      ]
     },
     "execution_count": null,
     "metadata": {},
     "output_type": "execute_result"
    }
   ],
   "source": [
    "m1"
   ]
  },
  {
   "cell_type": "code",
   "execution_count": null,
   "id": "87ac9d52-fde0-4e4d-9270-d0e4910def6b",
   "metadata": {},
   "outputs": [],
   "source": [
    "#| hide\n",
    "test_eq(m1.magnitude, 0.44642857142857145)\n",
    "test_eq(m1.units, Unit.MOLE)"
   ]
  },
  {
   "cell_type": "code",
   "execution_count": null,
   "id": "0c725336-c67c-4ea0-856c-705b3fba6c10",
   "metadata": {},
   "outputs": [],
   "source": []
  }
 ],
 "metadata": {
  "kernelspec": {
   "display_name": "Python 3 (ipykernel)",
   "language": "python",
   "name": "python3"
  }
 },
 "nbformat": 4,
 "nbformat_minor": 5
}
