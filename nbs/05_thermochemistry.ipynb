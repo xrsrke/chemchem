{
 "cells": [
  {
   "cell_type": "markdown",
   "id": "27760bce-0d18-4db5-8b56-9add9b690576",
   "metadata": {},
   "source": [
    "# Thermochemistry\n",
    "\n",
    "> Fill in a module description here"
   ]
  },
  {
   "cell_type": "code",
   "execution_count": null,
   "id": "71011c07-9a82-4661-b17c-227cad5ba3a1",
   "metadata": {},
   "outputs": [],
   "source": [
    "#| default_exp thermochemistry"
   ]
  },
  {
   "cell_type": "code",
   "execution_count": null,
   "id": "eafd3ec7-7181-432e-9daa-5e50c85d37c0",
   "metadata": {},
   "outputs": [],
   "source": [
    "#| hide\n",
    "from nbdev.showdoc import *"
   ]
  },
  {
   "cell_type": "code",
   "execution_count": null,
   "id": "d704ad0e-102e-4764-b7e4-f91961a60d15",
   "metadata": {},
   "outputs": [],
   "source": [
    "#| hide\n",
    "import nbdev; nbdev.nbdev_export()"
   ]
  },
  {
   "cell_type": "code",
   "execution_count": null,
   "id": "b3d2d455-476e-41a6-be99-b004fd59ab24",
   "metadata": {},
   "outputs": [],
   "source": [
    "#| export\n",
    "import numpy as np\n",
    "\n",
    "from chemchem.core import *\n",
    "from chemchem.reaction import Reaction\n",
    "from chemchem.compound import Compound"
   ]
  },
  {
   "cell_type": "markdown",
   "id": "eed77ef4-530a-4670-bfa9-5232f08c1d36",
   "metadata": {},
   "source": [
    "#### Thermochemistry"
   ]
  },
  {
   "cell_type": "markdown",
   "id": "36adc98e-5a76-4986-8069-1157d40d10e5",
   "metadata": {},
   "source": [
    "Calculate heat: $q=C \\times \\Delta T$"
   ]
  },
  {
   "cell_type": "markdown",
   "id": "d84781e5-1795-4956-affe-7bafe2f580fe",
   "metadata": {},
   "source": [
    "##### Heat Capacity"
   ]
  },
  {
   "cell_type": "markdown",
   "id": "2e2cc85a-a11e-4d26-8682-752ebafc35bc",
   "metadata": {},
   "source": [
    "The heat capacity of a substanc depends on its mass and the specific heat."
   ]
  },
  {
   "cell_type": "markdown",
   "id": "4ab621a8-41b8-4269-8180-6c37e3c60ba9",
   "metadata": {},
   "source": [
    "The heat capacity of a substance: $C = s \\times \\Delta T$"
   ]
  },
  {
   "cell_type": "markdown",
   "id": "f8c2b492-8a7c-4a02-bd1b-1c59e7c5d2a2",
   "metadata": {},
   "source": [
    "### Thermal Reaction"
   ]
  },
  {
   "cell_type": "markdown",
   "id": "38984d85-88c8-481a-80e9-3e748dbd8f6e",
   "metadata": {},
   "source": [
    "#### Standard Enthalpy"
   ]
  },
  {
   "cell_type": "markdown",
   "id": "6c17a2c6-73f2-4f40-a59e-f787ef263089",
   "metadata": {},
   "source": [
    "$\\Delta_f H^{\\ominus}= \\sum v \\Delta_f H^{\\ominus}($ products $)-\\sum v \\Delta_f H^{\\ominus}($ reactants $)$"
   ]
  },
  {
   "cell_type": "code",
   "execution_count": null,
   "id": "031be046-b29e-4bf2-9c93-2f6afd8e4ac3",
   "metadata": {},
   "outputs": [],
   "source": [
    "#| export\n",
    "class ThermalReaction(Reaction):\n",
    "    \n",
    "    def standard_enthalpy(self):\n",
    "        \n",
    "        if self.is_balanced == False:\n",
    "            raise Exception(\"You need to balance the chemical equation!\")\n",
    "        \n",
    "        products = self.products\n",
    "        reactants = self.reactants\n",
    "        \n",
    "        # TODO: add Standard Thermodynamic Quantities"
   ]
  },
  {
   "cell_type": "code",
   "execution_count": null,
   "id": "c9abbc06-eae9-45a1-9917-f9c741c2d69f",
   "metadata": {},
   "outputs": [],
   "source": [
    "MgOH2 = Compound('Mg(OH)2')"
   ]
  },
  {
   "cell_type": "code",
   "execution_count": null,
   "id": "1d10f6bd-b4d2-4312-998c-62868979f62c",
   "metadata": {},
   "outputs": [
    {
     "data": {
      "text/plain": [
       "'O₂H₂Mg₁'"
      ]
     },
     "execution_count": null,
     "metadata": {},
     "output_type": "execute_result"
    }
   ],
   "source": [
    "MgOH2.formula"
   ]
  },
  {
   "cell_type": "code",
   "execution_count": null,
   "id": "17449aa1-2834-461b-90c3-c3865e8dc2b3",
   "metadata": {},
   "outputs": [],
   "source": [
    "MgO = Compound('MgO')"
   ]
  },
  {
   "cell_type": "code",
   "execution_count": null,
   "id": "6be9f808-052c-445d-8c7b-850c941e49df",
   "metadata": {},
   "outputs": [],
   "source": [
    "H2O = Compound('H2O')"
   ]
  },
  {
   "cell_type": "code",
   "execution_count": null,
   "id": "62afbd9e-bf1c-4417-90bf-232b258c81ca",
   "metadata": {},
   "outputs": [],
   "source": [
    "H2O = Compound('H2O hello')"
   ]
  },
  {
   "cell_type": "code",
   "execution_count": null,
   "id": "bf88406b-d8ba-45f6-867a-7241a3c47796",
   "metadata": {},
   "outputs": [
    {
     "data": {
      "text/plain": [
       "{'occurences': {'H': 2, 'O': 1},\n",
       " 'elements': [<chemlib.chemistry.Element>,\n",
       "  <chemlib.chemistry.Element>,\n",
       "  <chemlib.chemistry.Element>],\n",
       " 'formula': 'H₂O₁',\n",
       " 'coefficient': 1,\n",
       " 'name': 'water',\n",
       " 'mass': None,\n",
       " 'mass_t': <chemchem.core.Symbol>,\n",
       " 'moles': None,\n",
       " 'specific_heat': None,\n",
       " 'temperature': 0    None\n",
       " Name: temperature, dtype: object}"
      ]
     },
     "execution_count": null,
     "metadata": {},
     "output_type": "execute_result"
    }
   ],
   "source": [
    "H2O.__dict__"
   ]
  },
  {
   "cell_type": "code",
   "execution_count": null,
   "id": "32179798-f341-499f-bf68-2e98c220cf45",
   "metadata": {},
   "outputs": [],
   "source": [
    "r = ThermalReaction(reactants=[MgOH2], products=[MgO, H2O])"
   ]
  },
  {
   "cell_type": "code",
   "execution_count": null,
   "id": "9502019c-8039-4362-8ce5-db6426e5ab62",
   "metadata": {},
   "outputs": [
    {
     "data": {
      "text/plain": [
       "'1O₂H₂Mg₁ --> 1Mg₁O₁ + 1H₂O₁'"
      ]
     },
     "execution_count": null,
     "metadata": {},
     "output_type": "execute_result"
    }
   ],
   "source": [
    "r.formula"
   ]
  },
  {
   "cell_type": "code",
   "execution_count": null,
   "id": "8e7ffea4-e956-4ad5-8ceb-3361edea56f5",
   "metadata": {},
   "outputs": [
    {
     "data": {
      "text/plain": [
       "True"
      ]
     },
     "execution_count": null,
     "metadata": {},
     "output_type": "execute_result"
    }
   ],
   "source": [
    "r.balance()"
   ]
  },
  {
   "cell_type": "code",
   "execution_count": null,
   "id": "01b0cdd4-5031-4214-8c5b-85b02af1004c",
   "metadata": {},
   "outputs": [
    {
     "data": {
      "text/plain": [
       "'1O₂H₂Mg₁ --> 1Mg₁O₁ + 1H₂O₁'"
      ]
     },
     "execution_count": null,
     "metadata": {},
     "output_type": "execute_result"
    }
   ],
   "source": [
    "r.formula"
   ]
  },
  {
   "cell_type": "code",
   "execution_count": null,
   "id": "b8cc88d0-928d-4560-81c5-231c547a5837",
   "metadata": {},
   "outputs": [
    {
     "data": {
      "text/plain": [
       "True"
      ]
     },
     "execution_count": null,
     "metadata": {},
     "output_type": "execute_result"
    }
   ],
   "source": [
    "r.is_balanced"
   ]
  },
  {
   "cell_type": "code",
   "execution_count": null,
   "id": "79ba2e4c-3810-4046-9604-f4ee856fd3ad",
   "metadata": {},
   "outputs": [],
   "source": [
    "r.standard_enthalpy()"
   ]
  },
  {
   "cell_type": "code",
   "execution_count": null,
   "id": "d4c84e47-ea67-4bc4-81dd-5f40ee96371b",
   "metadata": {},
   "outputs": [
    {
     "data": {
      "text/plain": [
       "{'occurences': {'H': 2, 'O': 1},\n",
       " 'elements': [<chemlib.chemistry.Element>,\n",
       "  <chemlib.chemistry.Element>,\n",
       "  <chemlib.chemistry.Element>],\n",
       " 'formula': 'H₂O₁',\n",
       " 'coefficient': 1,\n",
       " 'name': 'water',\n",
       " 'mass': None,\n",
       " 'mass_t': <chemchem.core.Symbol>,\n",
       " 'moles': None,\n",
       " 'specific_heat': None,\n",
       " 'temperature': 0    None\n",
       " Name: temperature, dtype: object}"
      ]
     },
     "execution_count": null,
     "metadata": {},
     "output_type": "execute_result"
    }
   ],
   "source": [
    "r.products[1].__dict__"
   ]
  },
  {
   "cell_type": "code",
   "execution_count": null,
   "id": "f1721ef6-0150-443c-97a8-ddda39d45f41",
   "metadata": {},
   "outputs": [],
   "source": [
    "#dict(r.coefficients)['O₂H₂Mg₁]"
   ]
  },
  {
   "cell_type": "code",
   "execution_count": null,
   "id": "2e095dd7-7f7b-41e9-ad2f-0e6f5ff259cc",
   "metadata": {},
   "outputs": [
    {
     "data": {
      "text/plain": [
       "{'reactants': [<chemchem.compound.Compound>],\n",
       " 'products': [<chemchem.compound.Compound>,\n",
       "  <chemchem.compound.Compound>],\n",
       " 'compounds': [<chemchem.compound.Compound>,\n",
       "  <chemchem.compound.Compound>,\n",
       "  <chemchem.compound.Compound>],\n",
       " 'reactant_formulas': ['O₂H₂Mg₁'],\n",
       " 'product_formulas': ['Mg₁O₁', 'H₂O₁'],\n",
       " 'formula': '1O₂H₂Mg₁ --> 1Mg₁O₁ + 1H₂O₁',\n",
       " 'coefficients': {'O₂H₂Mg₁': 1, 'Mg₁O₁': 1, 'H₂O₁': 1},\n",
       " 'constituents': ['O₂H₂Mg₁', 'Mg₁O₁', 'H₂O₁'],\n",
       " 'reactant_occurences': {'O': 2, 'H': 2, 'Mg': 1},\n",
       " 'product_occurences': {'Mg': 1, 'O': 2, 'H': 2},\n",
       " 'is_balanced': True}"
      ]
     },
     "execution_count": null,
     "metadata": {},
     "output_type": "execute_result"
    }
   ],
   "source": [
    "r.__dict__"
   ]
  },
  {
   "cell_type": "markdown",
   "id": "1ad8e52e-679a-4c48-95e5-99ae28ae763c",
   "metadata": {},
   "source": [
    "### Coffee Cup Reaction"
   ]
  },
  {
   "cell_type": "code",
   "execution_count": null,
   "id": "3d3b4320-519e-4358-a122-8365323edc8d",
   "metadata": {},
   "outputs": [],
   "source": [
    "#| export\n",
    "class CoffeCup:\n",
    "    def __init__(self, reactants, products=None):\n",
    "        pass\n",
    "    \n",
    "    def heat_capacity(self):\n",
    "        return specific_heat * mass\n",
    "    \n",
    "    def reaction_heat(self): # the final reaction heat for each reactant and product\n",
    "        \n",
    "        if heat_capacity:\n",
    "            heat = heat_capacity * change_in_temperature"
   ]
  },
  {
   "cell_type": "code",
   "execution_count": null,
   "id": "2cb996d7-0026-4ff2-a9c2-0a628eda8d42",
   "metadata": {},
   "outputs": [],
   "source": [
    "HI = Compound('HI')"
   ]
  },
  {
   "cell_type": "code",
   "execution_count": null,
   "id": "37b3dc93-9b3c-475f-bb0e-e391c7dcc67d",
   "metadata": {},
   "outputs": [],
   "source": [
    "KOH = Compound('KOH')"
   ]
  },
  {
   "cell_type": "code",
   "execution_count": null,
   "id": "fa498441-e54e-47a3-9ed1-0a6617c5541d",
   "metadata": {},
   "outputs": [],
   "source": [
    "c = CoffeCup(reactants=[HI, KOH])"
   ]
  },
  {
   "cell_type": "code",
   "execution_count": null,
   "id": "4883baeb-d7ce-429e-88cc-e699617e5a39",
   "metadata": {},
   "outputs": [
    {
     "data": {
      "text/plain": [
       "<__main__.CoffeCup>"
      ]
     },
     "execution_count": null,
     "metadata": {},
     "output_type": "execute_result"
    }
   ],
   "source": [
    "c"
   ]
  },
  {
   "cell_type": "code",
   "execution_count": null,
   "id": "0f0097f8-9e07-4c3f-8d77-3ec501025864",
   "metadata": {},
   "outputs": [],
   "source": [
    "#| export\n",
    "class CoffeCupBuilder:\n",
    "    def __init__(self):\n",
    "        pass\n",
    "    def addSolvent(self):\n",
    "        pass"
   ]
  },
  {
   "cell_type": "markdown",
   "id": "f5d690a9-d3d3-40ff-90aa-cab17e1f076b",
   "metadata": {},
   "source": [
    "$$C=s \\times m $$"
   ]
  },
  {
   "cell_type": "code",
   "execution_count": null,
   "id": "57c35ddb-1ffa-4fba-98de-d8582499e597",
   "metadata": {},
   "outputs": [],
   "source": [
    "def calculate_heat_capacity(specific_heat, mass):\n",
    "    return specific_heat * mass"
   ]
  },
  {
   "cell_type": "markdown",
   "id": "29917504-d290-47c1-ab11-0f3250864779",
   "metadata": {},
   "source": [
    "### Calorimeter"
   ]
  },
  {
   "cell_type": "code",
   "execution_count": null,
   "id": "0a282f1e-8522-4d83-9faa-6ca97b62cd87",
   "metadata": {},
   "outputs": [],
   "source": []
  },
  {
   "cell_type": "markdown",
   "id": "6e2b25be-4f27-4f58-a5d1-272eb3374faf",
   "metadata": {},
   "source": [
    "### Hess's Law"
   ]
  },
  {
   "cell_type": "code",
   "execution_count": null,
   "id": "137f69bf-9ccc-4e49-a921-679bc2913367",
   "metadata": {},
   "outputs": [],
   "source": [
    "# TODO: Find an algorithm for hess's law"
   ]
  },
  {
   "cell_type": "markdown",
   "id": "98f7834e-1680-47a2-8f9f-08e368989f57",
   "metadata": {},
   "source": [
    "C4H8, C4H4, O2, CO2, H2O"
   ]
  },
  {
   "cell_type": "code",
   "execution_count": null,
   "id": "a7a32113-c8de-4933-8dc1-5b551d21e403",
   "metadata": {},
   "outputs": [],
   "source": [
    "A = np.array([\n",
    "        [0, 1, 5, 4, 2],\n",
    "        [1, 0, 6, 4, 2],\n",
    "        [0, 0, 1, 0, 2]\n",
    "    ])"
   ]
  },
  {
   "cell_type": "code",
   "execution_count": null,
   "id": "6d7c9c5f-cf7f-4bdd-836b-ae34877cd92d",
   "metadata": {},
   "outputs": [
    {
     "data": {
      "text/plain": [
       "array([[0, 1, 5, 4, 2],\n",
       "       [1, 0, 6, 4, 2],\n",
       "       [0, 0, 1, 0, 2]])"
      ]
     },
     "execution_count": null,
     "metadata": {},
     "output_type": "execute_result"
    }
   ],
   "source": [
    "A"
   ]
  },
  {
   "cell_type": "code",
   "execution_count": null,
   "id": "a8ff1bca-a6d9-4b82-81a2-9cb992218e96",
   "metadata": {},
   "outputs": [
    {
     "data": {
      "text/plain": [
       "(3, 5)"
      ]
     },
     "execution_count": null,
     "metadata": {},
     "output_type": "execute_result"
    }
   ],
   "source": [
    "A.shape"
   ]
  },
  {
   "cell_type": "markdown",
   "id": "8bd502f9-8929-471d-88c3-ea55a84ff1be",
   "metadata": {},
   "source": [
    "(3, 4) x (4, 1) = (3,1)"
   ]
  },
  {
   "cell_type": "code",
   "execution_count": null,
   "id": "0147e7b8-ce34-421d-a163-6bc4f357d3ad",
   "metadata": {},
   "outputs": [],
   "source": [
    "b = np.array([-2341, -2755, -571.6])"
   ]
  },
  {
   "cell_type": "code",
   "execution_count": null,
   "id": "9ca31fbf-088f-4d25-a9bb-e408ee80f679",
   "metadata": {},
   "outputs": [
    {
     "data": {
      "text/plain": [
       "(3,)"
      ]
     },
     "execution_count": null,
     "metadata": {},
     "output_type": "execute_result"
    }
   ],
   "source": [
    "#b.shape"
   ]
  },
  {
   "cell_type": "code",
   "execution_count": null,
   "id": "700f2480-c4e0-4fc2-9d3f-badb895c30cb",
   "metadata": {},
   "outputs": [
    {
     "ename": "LinAlgError",
     "evalue": "Last 2 dimensions of the array must be square",
     "output_type": "error",
     "traceback": [
      "\u001b[0;31m---------------------------------------------------------------------------\u001b[0m",
      "\u001b[0;31mLinAlgError\u001b[0m                               Traceback (most recent call last)",
      "Input \u001b[0;32mIn [65]\u001b[0m, in \u001b[0;36m<cell line: 1>\u001b[0;34m()\u001b[0m\n\u001b[0;32m----> 1\u001b[0m \u001b[43mnp\u001b[49m\u001b[38;5;241;43m.\u001b[39;49m\u001b[43mlinalg\u001b[49m\u001b[38;5;241;43m.\u001b[39;49m\u001b[43msolve\u001b[49m\u001b[43m(\u001b[49m\u001b[43mA\u001b[49m\u001b[43m,\u001b[49m\u001b[43m \u001b[49m\u001b[43mb\u001b[49m\u001b[43m)\u001b[49m\n",
      "File \u001b[0;32m<__array_function__ internals>:180\u001b[0m, in \u001b[0;36msolve\u001b[0;34m(*args, **kwargs)\u001b[0m\n",
      "File \u001b[0;32m/opt/anaconda3/envs/chemchem/lib/python3.9/site-packages/numpy/linalg/linalg.py:387\u001b[0m, in \u001b[0;36msolve\u001b[0;34m(a, b)\u001b[0m\n\u001b[1;32m    385\u001b[0m a, _ \u001b[38;5;241m=\u001b[39m _makearray(a)\n\u001b[1;32m    386\u001b[0m _assert_stacked_2d(a)\n\u001b[0;32m--> 387\u001b[0m \u001b[43m_assert_stacked_square\u001b[49m\u001b[43m(\u001b[49m\u001b[43ma\u001b[49m\u001b[43m)\u001b[49m\n\u001b[1;32m    388\u001b[0m b, wrap \u001b[38;5;241m=\u001b[39m _makearray(b)\n\u001b[1;32m    389\u001b[0m t, result_t \u001b[38;5;241m=\u001b[39m _commonType(a, b)\n",
      "File \u001b[0;32m/opt/anaconda3/envs/chemchem/lib/python3.9/site-packages/numpy/linalg/linalg.py:204\u001b[0m, in \u001b[0;36m_assert_stacked_square\u001b[0;34m(*arrays)\u001b[0m\n\u001b[1;32m    202\u001b[0m m, n \u001b[38;5;241m=\u001b[39m a\u001b[38;5;241m.\u001b[39mshape[\u001b[38;5;241m-\u001b[39m\u001b[38;5;241m2\u001b[39m:]\n\u001b[1;32m    203\u001b[0m \u001b[38;5;28;01mif\u001b[39;00m m \u001b[38;5;241m!=\u001b[39m n:\n\u001b[0;32m--> 204\u001b[0m     \u001b[38;5;28;01mraise\u001b[39;00m LinAlgError(\u001b[38;5;124m'\u001b[39m\u001b[38;5;124mLast 2 dimensions of the array must be square\u001b[39m\u001b[38;5;124m'\u001b[39m)\n",
      "\u001b[0;31mLinAlgError\u001b[0m: Last 2 dimensions of the array must be square"
     ]
    }
   ],
   "source": [
    "#np.linalg.solve(A, b)"
   ]
  },
  {
   "cell_type": "code",
   "execution_count": null,
   "id": "6be00486-5031-4106-99f0-430435db6ac4",
   "metadata": {},
   "outputs": [],
   "source": [
    "A = np.array([[-4, 6], [0,2]])"
   ]
  },
  {
   "cell_type": "code",
   "execution_count": null,
   "id": "fc9e6404-d1e1-42ed-9db8-35f927c6565f",
   "metadata": {},
   "outputs": [],
   "source": [
    "b = np.array([-1516, -572])"
   ]
  },
  {
   "cell_type": "code",
   "execution_count": null,
   "id": "590fee2f-fb02-4a79-bf9c-fc38db405299",
   "metadata": {},
   "outputs": [
    {
     "data": {
      "text/plain": [
       "array([ -50., -286.])"
      ]
     },
     "execution_count": null,
     "metadata": {},
     "output_type": "execute_result"
    }
   ],
   "source": [
    "np.linalg.solve(A,b)"
   ]
  },
  {
   "cell_type": "code",
   "execution_count": null,
   "id": "984d937d-07a3-4996-83d7-79fcdf062080",
   "metadata": {},
   "outputs": [],
   "source": []
  }
 ],
 "metadata": {
  "kernelspec": {
   "display_name": "Python 3 (ipykernel)",
   "language": "python",
   "name": "python3"
  }
 },
 "nbformat": 4,
 "nbformat_minor": 5
}
