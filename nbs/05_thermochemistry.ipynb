{
 "cells": [
  {
   "cell_type": "markdown",
   "id": "27760bce-0d18-4db5-8b56-9add9b690576",
   "metadata": {},
   "source": [
    "# thermochemistry\n",
    "\n",
    "> Fill in a module description here"
   ]
  },
  {
   "cell_type": "code",
   "execution_count": null,
   "id": "71011c07-9a82-4661-b17c-227cad5ba3a1",
   "metadata": {},
   "outputs": [],
   "source": [
    "#| default_exp thermochemistry"
   ]
  },
  {
   "cell_type": "code",
   "execution_count": null,
   "id": "eafd3ec7-7181-432e-9daa-5e50c85d37c0",
   "metadata": {},
   "outputs": [],
   "source": [
    "#| hide\n",
    "from nbdev.showdoc import *"
   ]
  },
  {
   "cell_type": "code",
   "execution_count": null,
   "id": "b3d2d455-476e-41a6-be99-b004fd59ab24",
   "metadata": {},
   "outputs": [],
   "source": [
    "#| export\n",
    "from chemchem.core import *\n",
    "from chemchem.compound import Compound"
   ]
  },
  {
   "cell_type": "code",
   "execution_count": null,
   "id": "d704ad0e-102e-4764-b7e4-f91961a60d15",
   "metadata": {},
   "outputs": [],
   "source": [
    "#| hide\n",
    "import nbdev; nbdev.nbdev_export()"
   ]
  },
  {
   "cell_type": "code",
   "execution_count": null,
   "id": "031be046-b29e-4bf2-9c93-2f6afd8e4ac3",
   "metadata": {},
   "outputs": [],
   "source": [
    "#| export\n",
    "class Thermochemistry:\n",
    "    pass"
   ]
  },
  {
   "cell_type": "markdown",
   "id": "1ad8e52e-679a-4c48-95e5-99ae28ae763c",
   "metadata": {},
   "source": [
    "### Coffee Cup Reaction"
   ]
  },
  {
   "cell_type": "code",
   "execution_count": null,
   "id": "3d3b4320-519e-4358-a122-8365323edc8d",
   "metadata": {},
   "outputs": [],
   "source": [
    "#| export\n",
    "class CoffeCup:\n",
    "    def __init__(self, reactants, products=None):\n",
    "        pass\n",
    "    \n",
    "    def heat_capacity(self):\n",
    "        return specific_heat * mass\n",
    "    \n",
    "    def reaction_heat(self): # the final reaction heat for each reactant and product\n",
    "        \n",
    "        if heat_capacity:\n",
    "            heat = heat_capacity * change_in_temperature"
   ]
  },
  {
   "cell_type": "code",
   "execution_count": null,
   "id": "2cb996d7-0026-4ff2-a9c2-0a628eda8d42",
   "metadata": {},
   "outputs": [],
   "source": [
    "HI = Compound('HI')"
   ]
  },
  {
   "cell_type": "code",
   "execution_count": null,
   "id": "37b3dc93-9b3c-475f-bb0e-e391c7dcc67d",
   "metadata": {},
   "outputs": [],
   "source": [
    "KOH = Compound('KOH')"
   ]
  },
  {
   "cell_type": "code",
   "execution_count": null,
   "id": "fa498441-e54e-47a3-9ed1-0a6617c5541d",
   "metadata": {},
   "outputs": [],
   "source": [
    "c = CoffeCup(reactants=[HI, KOH])"
   ]
  },
  {
   "cell_type": "code",
   "execution_count": null,
   "id": "4883baeb-d7ce-429e-88cc-e699617e5a39",
   "metadata": {},
   "outputs": [
    {
     "data": {
      "text/plain": [
       "<__main__.CoffeCup>"
      ]
     },
     "execution_count": null,
     "metadata": {},
     "output_type": "execute_result"
    }
   ],
   "source": [
    "c"
   ]
  },
  {
   "cell_type": "code",
   "execution_count": null,
   "id": "0f0097f8-9e07-4c3f-8d77-3ec501025864",
   "metadata": {},
   "outputs": [],
   "source": [
    "#| export\n",
    "class CoffeCupBuilder:\n",
    "    def __init__(self):\n",
    "        pass\n",
    "    def addSolvent(self):\n",
    "        pass"
   ]
  },
  {
   "cell_type": "markdown",
   "id": "f5d690a9-d3d3-40ff-90aa-cab17e1f076b",
   "metadata": {},
   "source": [
    "$$C=s \\times m $$"
   ]
  },
  {
   "cell_type": "code",
   "execution_count": null,
   "id": "57c35ddb-1ffa-4fba-98de-d8582499e597",
   "metadata": {},
   "outputs": [],
   "source": [
    "def calculate_heat_capacity(specific_heat, mass):\n",
    "    return specific_heat * mass"
   ]
  },
  {
   "cell_type": "code",
   "execution_count": null,
   "id": "6d01c4d6-8d51-4888-94cc-3a750b2e6e4d",
   "metadata": {},
   "outputs": [],
   "source": []
  }
 ],
 "metadata": {
  "kernelspec": {
   "display_name": "Python 3 (ipykernel)",
   "language": "python",
   "name": "python3"
  }
 },
 "nbformat": 4,
 "nbformat_minor": 5
}
