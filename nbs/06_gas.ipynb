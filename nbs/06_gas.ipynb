{
 "cells": [
  {
   "cell_type": "markdown",
   "id": "8b3e82dd-c7ae-46af-9368-fe2b7f95abc6",
   "metadata": {},
   "source": [
    "# Gas\n",
    "\n",
    "> Fill in a module description here"
   ]
  },
  {
   "cell_type": "code",
   "execution_count": null,
   "id": "f99b08c7-6b79-40df-a174-852b91739831",
   "metadata": {},
   "outputs": [],
   "source": [
    "#| default_exp gas"
   ]
  },
  {
   "cell_type": "code",
   "execution_count": null,
   "id": "7860939a-7849-4e17-807d-6db5ccf294d5",
   "metadata": {},
   "outputs": [],
   "source": [
    "#| hide\n",
    "from nbdev.showdoc import *"
   ]
  },
  {
   "cell_type": "code",
   "execution_count": null,
   "id": "36daa6cd-a0cf-419a-8b8e-4297c040814c",
   "metadata": {},
   "outputs": [],
   "source": [
    "#| hide\n",
    "import nbdev; nbdev.nbdev_export()"
   ]
  },
  {
   "cell_type": "code",
   "execution_count": null,
   "id": "ca53ba56-414c-482e-9964-b4f996b0ce20",
   "metadata": {},
   "outputs": [],
   "source": [
    "#| export\n",
    "from chemchem.core import *\n",
    "from chemchem.compound import Compound"
   ]
  },
  {
   "cell_type": "code",
   "execution_count": null,
   "id": "408b3da7-94cf-4fde-b58b-29d0c326780b",
   "metadata": {},
   "outputs": [],
   "source": [
    "#| export\n",
    "class Gas(Compound):\n",
    "    \n",
    "    # def __init__(self):\n",
    "    #     pass\n",
    "\n",
    "    @property\n",
    "    def pressure(self):\n",
    "        pass"
   ]
  },
  {
   "cell_type": "markdown",
   "id": "a2b8181a-8b15-4c20-9432-81e1ad842ab1",
   "metadata": {},
   "source": [
    "### Gas's Laws"
   ]
  },
  {
   "cell_type": "code",
   "execution_count": null,
   "id": "fe3cdd13-19ed-4862-a0b8-ae9dbcdb39f2",
   "metadata": {},
   "outputs": [],
   "source": [
    "#| export\n",
    "class GasLaw:\n",
    "    \n",
    "    def boylelaw(self):\n",
    "        pass"
   ]
  },
  {
   "cell_type": "markdown",
   "id": "9e162fe5-99a4-4178-9436-6c663df9a289",
   "metadata": {},
   "source": [
    "Gas's law using a different unit from the SI unit"
   ]
  },
  {
   "cell_type": "code",
   "execution_count": null,
   "id": "5943f0ff-a365-49fd-a2c4-f9c8f3a39bcb",
   "metadata": {},
   "outputs": [],
   "source": [
    "#| export\n",
    "class UnitGas(Unit):\n",
    "    \n",
    "    PRESSURE = 'atm'\n",
    "    TEMPERATURE = 'kelvin'"
   ]
  },
  {
   "cell_type": "code",
   "execution_count": null,
   "id": "ad20e3a4-5cc6-4234-991c-cf45f2bb81e5",
   "metadata": {},
   "outputs": [],
   "source": []
  }
 ],
 "metadata": {
  "kernelspec": {
   "display_name": "Python 3 (ipykernel)",
   "language": "python",
   "name": "python3"
  }
 },
 "nbformat": 4,
 "nbformat_minor": 5
}
