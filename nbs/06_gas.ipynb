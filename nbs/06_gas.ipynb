{
 "cells": [
  {
   "cell_type": "markdown",
   "id": "8b3e82dd-c7ae-46af-9368-fe2b7f95abc6",
   "metadata": {},
   "source": [
    "# Gas\n",
    "\n",
    "> Fill in a module description here"
   ]
  },
  {
   "cell_type": "code",
   "execution_count": null,
   "id": "f99b08c7-6b79-40df-a174-852b91739831",
   "metadata": {},
   "outputs": [],
   "source": [
    "#| default_exp gas"
   ]
  },
  {
   "cell_type": "code",
   "execution_count": null,
   "id": "7860939a-7849-4e17-807d-6db5ccf294d5",
   "metadata": {},
   "outputs": [],
   "source": [
    "#| hide\n",
    "from nbdev.showdoc import *"
   ]
  },
  {
   "cell_type": "code",
   "execution_count": null,
   "id": "36daa6cd-a0cf-419a-8b8e-4297c040814c",
   "metadata": {},
   "outputs": [],
   "source": [
    "#| hide\n",
    "import nbdev; nbdev.nbdev_export()"
   ]
  },
  {
   "cell_type": "code",
   "execution_count": null,
   "id": "ca53ba56-414c-482e-9964-b4f996b0ce20",
   "metadata": {},
   "outputs": [],
   "source": [
    "#| export\n",
    "import pandas as pd\n",
    "import sympy as smp\n",
    "\n",
    "from chemchem.core import *\n",
    "from chemchem.compound import Compound"
   ]
  },
  {
   "cell_type": "code",
   "execution_count": null,
   "id": "df7a45cf-ee6f-49b7-99fa-491aefd2cdc5",
   "metadata": {},
   "outputs": [],
   "source": [
    "#| export\n",
    "class Pressure:\n",
    "    def __init__(self):\n",
    "        self.data = pd.Series([], name='Pressure over time', dtype=object)\n",
    "    \n",
    "    def setInitial(self, value):\n",
    "        self.data[0] = value\n",
    "        return self\n",
    "    \n",
    "    def append(\n",
    "        self,\n",
    "        value # the pressure\n",
    "    ): # append the pressure value to the series\n",
    "        self.data[self.data.size] = value\n",
    "        return self"
   ]
  },
  {
   "cell_type": "code",
   "execution_count": null,
   "id": "2f6a48b3-5e5c-4c05-b979-84784ab71445",
   "metadata": {},
   "outputs": [],
   "source": [
    "p = Pressure()"
   ]
  },
  {
   "cell_type": "code",
   "execution_count": null,
   "id": "05458995-92a5-423c-aed0-cded1bb0d507",
   "metadata": {},
   "outputs": [
    {
     "data": {
      "text/plain": [
       "Series([], Name: Pressure over time, dtype: object)"
      ]
     },
     "execution_count": null,
     "metadata": {},
     "output_type": "execute_result"
    }
   ],
   "source": [
    "p.data"
   ]
  },
  {
   "cell_type": "code",
   "execution_count": null,
   "id": "ec304690-c406-4f98-99cc-2e8b99e73363",
   "metadata": {},
   "outputs": [
    {
     "data": {
      "text/plain": [
       "<__main__.Pressure>"
      ]
     },
     "execution_count": null,
     "metadata": {},
     "output_type": "execute_result"
    }
   ],
   "source": [
    "p.append(2312)"
   ]
  },
  {
   "cell_type": "code",
   "execution_count": null,
   "id": "408b3da7-94cf-4fde-b58b-29d0c326780b",
   "metadata": {},
   "outputs": [],
   "source": [
    "#| export\n",
    "class Gas(Compound):\n",
    "    pass"
   ]
  },
  {
   "cell_type": "markdown",
   "id": "a2b8181a-8b15-4c20-9432-81e1ad842ab1",
   "metadata": {},
   "source": [
    "### Gas's Laws"
   ]
  },
  {
   "cell_type": "code",
   "execution_count": null,
   "id": "fe3cdd13-19ed-4862-a0b8-ae9dbcdb39f2",
   "metadata": {},
   "outputs": [],
   "source": [
    "#| export\n",
    "class GasLaw:\n",
    "    \n",
    "    def boyle_law(self):\n",
    "        p1, v1, p2, v2 = smp.symbols('p_1 v_1 p_2 v_2')\n",
    "        return smp.Eq(p1*v1, p2*v2)\n",
    "    \n",
    "    def charles_law(self):\n",
    "        t1, v1, t2, v2 = smp.symbols('t_1 v_1 t_2 v_2')\n",
    "        return smp.Eq(t1/v1, t2/v2)\n",
    "    \n",
    "    def avogadro_law(self):\n",
    "        n1, v1, n2, v2 = smp.symbols('n_1 v_1 n_2 v_2')\n",
    "        return smp.Eq(n1/v1, n2/v2)"
   ]
  },
  {
   "cell_type": "code",
   "execution_count": null,
   "id": "adf12814-f322-413b-826f-e52eb133b04a",
   "metadata": {},
   "outputs": [
    {
     "data": {
      "text/latex": [
       "$\\displaystyle \\frac{t_{1}}{v_{1}} = \\frac{t_{2}}{v_{2}}$"
      ],
      "text/plain": [
       "Eq(t_1/v_1, t_2/v_2)"
      ]
     },
     "execution_count": null,
     "metadata": {},
     "output_type": "execute_result"
    }
   ],
   "source": [
    "GasLaw().charles_law()"
   ]
  },
  {
   "cell_type": "code",
   "execution_count": null,
   "id": "1878618c-c5b2-4a6e-ace7-3a168ee61fd9",
   "metadata": {},
   "outputs": [
    {
     "data": {
      "text/latex": [
       "$\\displaystyle \\frac{n_{1}}{v_{1}} = \\frac{n_{2}}{v_{2}}$"
      ],
      "text/plain": [
       "Eq(n_1/v_1, n_2/v_2)"
      ]
     },
     "execution_count": null,
     "metadata": {},
     "output_type": "execute_result"
    }
   ],
   "source": [
    "GasLaw().avogadro_law()"
   ]
  },
  {
   "cell_type": "code",
   "execution_count": null,
   "id": "c593a85c-7c5c-4bb1-82e6-69f0529fd475",
   "metadata": {},
   "outputs": [],
   "source": [
    "def boylelaw():\n",
    "    p1, v1, p2, v2 = smp.symbols('p_1 v_1 p_2 v_2')\n",
    "    return smp.Eq(p1*v1, p2*v2)"
   ]
  },
  {
   "cell_type": "code",
   "execution_count": null,
   "id": "2565f807-1fb3-490f-bc59-e4783c6e8185",
   "metadata": {},
   "outputs": [
    {
     "data": {
      "text/latex": [
       "$\\displaystyle p_{1} v_{1} = p_{2} v_{2}$"
      ],
      "text/plain": [
       "Eq(p_1*v_1, p_2*v_2)"
      ]
     },
     "execution_count": null,
     "metadata": {},
     "output_type": "execute_result"
    }
   ],
   "source": [
    "boylelaw()"
   ]
  },
  {
   "cell_type": "code",
   "execution_count": null,
   "id": "a3529e27-4aed-4b6f-bb66-7c1dfa1165c3",
   "metadata": {},
   "outputs": [
    {
     "data": {
      "text/latex": [
       "$\\displaystyle 2 v_{1} = 5 p_{2}$"
      ],
      "text/plain": [
       "Eq(2*v_1, 5*p_2)"
      ]
     },
     "execution_count": null,
     "metadata": {},
     "output_type": "execute_result"
    }
   ],
   "source": [
    "boylelaw().subs([('p_1', 2), ('v_2', 5)])"
   ]
  },
  {
   "cell_type": "markdown",
   "id": "9e162fe5-99a4-4178-9436-6c663df9a289",
   "metadata": {},
   "source": [
    "Gas's law using a different unit from the SI unit"
   ]
  },
  {
   "cell_type": "code",
   "execution_count": null,
   "id": "5943f0ff-a365-49fd-a2c4-f9c8f3a39bcb",
   "metadata": {},
   "outputs": [],
   "source": [
    "#| export\n",
    "class UnitGas(Unit):\n",
    "    \n",
    "    PRESSURE = 'atm'\n",
    "    TEMPERATURE = 'kelvin'"
   ]
  },
  {
   "cell_type": "code",
   "execution_count": null,
   "id": "ad20e3a4-5cc6-4234-991c-cf45f2bb81e5",
   "metadata": {},
   "outputs": [],
   "source": []
  }
 ],
 "metadata": {
  "kernelspec": {
   "display_name": "Python 3 (ipykernel)",
   "language": "python",
   "name": "python3"
  }
 },
 "nbformat": 4,
 "nbformat_minor": 5
}
