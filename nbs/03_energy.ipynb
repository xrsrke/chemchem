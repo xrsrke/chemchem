{
 "cells": [
  {
   "cell_type": "markdown",
   "id": "4201b660-57c7-4427-9088-7bdeaa9d73ea",
   "metadata": {},
   "source": [
    "# energy\n",
    "\n",
    "> Fill in a module description here"
   ]
  },
  {
   "cell_type": "code",
   "execution_count": null,
   "id": "6430ae86-329c-4575-be71-ba7b7a4055de",
   "metadata": {},
   "outputs": [],
   "source": [
    "#| default_exp energy"
   ]
  },
  {
   "cell_type": "code",
   "execution_count": null,
   "id": "7c9d8381-08c5-4851-8373-8cd2c78e6f2d",
   "metadata": {},
   "outputs": [],
   "source": [
    "#| hide\n",
    "from nbdev.showdoc import *"
   ]
  },
  {
   "cell_type": "code",
   "execution_count": null,
   "id": "27146da1-34ad-445d-a147-73f2f36710cb",
   "metadata": {},
   "outputs": [],
   "source": [
    "#| hide\n",
    "import nbdev; nbdev.nbdev_export()"
   ]
  }
 ],
 "metadata": {
  "kernelspec": {
   "display_name": "Python 3 (ipykernel)",
   "language": "python",
   "name": "python3"
  }
 },
 "nbformat": 4,
 "nbformat_minor": 5
}
