{
 "cells": [
  {
   "cell_type": "markdown",
   "id": "d2d5752a-a2aa-44b1-b3dd-56c9c2166f1b",
   "metadata": {},
   "source": [
    "### 5. The Ideal Gas Law"
   ]
  },
  {
   "cell_type": "code",
   "execution_count": null,
   "id": "208f03c3-3db6-446b-91d1-0c3e1b7cd651",
   "metadata": {},
   "outputs": [],
   "source": [
    "from chemchem.gas import Gas"
   ]
  },
  {
   "cell_type": "code",
   "execution_count": null,
   "id": "473f20ef-5780-4178-841d-02970f0f95c0",
   "metadata": {},
   "outputs": [],
   "source": [
    "H2 = Gas('H2')"
   ]
  },
  {
   "cell_type": "code",
   "execution_count": null,
   "id": "5b6f33b0-af2f-4b8a-a673-5acce3cf0c53",
   "metadata": {},
   "outputs": [],
   "source": []
  }
 ],
 "metadata": {
  "kernelspec": {
   "display_name": "Python 3 (ipykernel)",
   "language": "python",
   "name": "python3"
  }
 },
 "nbformat": 4,
 "nbformat_minor": 5
}
