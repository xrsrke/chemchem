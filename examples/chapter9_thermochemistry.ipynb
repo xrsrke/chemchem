{
 "cells": [
  {
   "cell_type": "markdown",
   "id": "67045dbb-da3f-4524-87b8-77f1bc3e522a",
   "metadata": {},
   "source": [
    "### Chapter 9: Thermochemistry"
   ]
  },
  {
   "cell_type": "code",
   "execution_count": null,
   "id": "4d214100-37ca-4c30-923f-4eda45c01d2f",
   "metadata": {},
   "outputs": [],
   "source": [
    "from chemchem.core import *\n",
    "from chemchem.compound import Compound\n",
    "from chemchem.reaction import Reaction"
   ]
  },
  {
   "cell_type": "code",
   "execution_count": null,
   "id": "54c2c153-8d61-41cc-819e-5cabff3dfb7a",
   "metadata": {},
   "outputs": [],
   "source": [
    "Ag = Compound('Ag')"
   ]
  },
  {
   "cell_type": "code",
   "execution_count": null,
   "id": "05d1e6ec-6b27-4b4c-9efa-26715f8f95d2",
   "metadata": {},
   "outputs": [
    {
     "data": {
      "text/plain": [
       "<chemchem.compound.Compound>"
      ]
     },
     "execution_count": null,
     "metadata": {},
     "output_type": "execute_result"
    }
   ],
   "source": [
    "Ag.setName('Silver')"
   ]
  },
  {
   "cell_type": "code",
   "execution_count": null,
   "id": "a1dbe04e-fdb1-4983-ba29-8a30dd3814e5",
   "metadata": {},
   "outputs": [
    {
     "data": {
      "text/plain": [
       "<chemchem.compound.Compound>"
      ]
     },
     "execution_count": null,
     "metadata": {},
     "output_type": "execute_result"
    }
   ],
   "source": [
    "Ag.setAmount(mass=Q(1.2, 'kilograms'))"
   ]
  },
  {
   "cell_type": "code",
   "execution_count": null,
   "id": "de4a6b63-a21f-4662-ab8e-ab3f317828e3",
   "metadata": {},
   "outputs": [
    {
     "data": {
      "text/html": [
       "0.235 joule/(kelvin kilogram)"
      ],
      "text/latex": [
       "$0.235\\ \\frac{\\mathrm{joule}}{\\left(\\mathrm{kelvin} \\cdot \\mathrm{kilogram}\\right)}$"
      ],
      "text/plain": [
       "0.235 <Unit('joule / kelvin / kilogram')>"
      ]
     },
     "execution_count": null,
     "metadata": {},
     "output_type": "execute_result"
    }
   ],
   "source": [
    "Ag.setSpecificHeat(Q(0.235, Unit.SPECIFIC_HEAT))"
   ]
  },
  {
   "cell_type": "code",
   "execution_count": null,
   "id": "9062b2ac-3cf8-46af-94ce-64be0c68ff16",
   "metadata": {},
   "outputs": [
    {
     "data": {
      "text/plain": [
       "{'occurences': {'Ag': 1},\n",
       " 'elements': [<chemlib.chemistry.Element>],\n",
       " 'formula': 'Ag₁',\n",
       " 'coefficient': 1,\n",
       " 'name': 'Silver',\n",
       " 'mass': 1.2 <Unit('kilogram')>,\n",
       " 'moles': 11.12470797641562 <Unit('mole')>,\n",
       " 'specific_heat': 0.235 <Unit('joule / kelvin / kilogram')>}"
      ]
     },
     "execution_count": null,
     "metadata": {},
     "output_type": "execute_result"
    }
   ],
   "source": [
    "Ag.__dict__"
   ]
  },
  {
   "cell_type": "code",
   "execution_count": null,
   "id": "9db70bbf-8451-48e1-bbd0-226ede32aa87",
   "metadata": {},
   "outputs": [
    {
     "data": {
      "text/html": [
       "5.922 joule"
      ],
      "text/latex": [
       "$5.922\\ \\mathrm{joule}$"
      ],
      "text/plain": [
       "5.922 <Unit('joule')>"
      ]
     },
     "execution_count": null,
     "metadata": {},
     "output_type": "execute_result"
    }
   ],
   "source": [
    "Ag.heat(change_in_temperature=Q(21, Unit.TEMPERATURE))"
   ]
  },
  {
   "cell_type": "code",
   "execution_count": null,
   "id": "4129c617-bf41-4150-a38a-3dac67832775",
   "metadata": {},
   "outputs": [
    {
     "data": {
      "text/html": [
       "0.282 joule/kelvin"
      ],
      "text/latex": [
       "$0.282\\ \\frac{\\mathrm{joule}}{\\mathrm{kelvin}}$"
      ],
      "text/plain": [
       "0.282 <Unit('joule / kelvin')>"
      ]
     },
     "execution_count": null,
     "metadata": {},
     "output_type": "execute_result"
    }
   ],
   "source": [
    "Ag.heat_capacity"
   ]
  },
  {
   "cell_type": "code",
   "execution_count": null,
   "id": "4d59e85d-6a37-43a6-8035-1603ea41315e",
   "metadata": {},
   "outputs": [],
   "source": []
  }
 ],
 "metadata": {
  "kernelspec": {
   "display_name": "Python 3 (ipykernel)",
   "language": "python",
   "name": "python3"
  }
 },
 "nbformat": 4,
 "nbformat_minor": 5
}
